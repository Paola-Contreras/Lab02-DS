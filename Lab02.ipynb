{
 "cells": [
  {
   "cell_type": "markdown",
   "metadata": {},
   "source": [
    "### Lab N0.02\n",
    "\n",
    "#### Clasificación de rótulos de tráfico utilizando CNN Le-Net\n",
    "\n",
    "- Paola de León 20361\n",
    "- Gabriela Contreas 20213\n"
   ]
  },
  {
   "cell_type": "code",
   "execution_count": 1,
   "metadata": {},
   "outputs": [
    {
     "name": "stderr",
     "output_type": "stream",
     "text": [
      "2023-08-20 18:46:49.277243: I tensorflow/core/platform/cpu_feature_guard.cc:182] This TensorFlow binary is optimized to use available CPU instructions in performance-critical operations.\n",
      "To enable the following instructions: AVX2 FMA, in other operations, rebuild TensorFlow with the appropriate compiler flags.\n"
     ]
    }
   ],
   "source": [
    "import pandas as pd\n",
    "import tensorflow as tf\n",
    "import matplotlib.pyplot as plt\n",
    "from sklearn.model_selection import train_test_split\n",
    "from tensorflow.keras import datasets, layers, models, losses\n"
   ]
  },
  {
   "cell_type": "markdown",
   "metadata": {},
   "source": [
    "#### Parte 1"
   ]
  },
  {
   "cell_type": "code",
   "execution_count": 2,
   "metadata": {},
   "outputs": [],
   "source": [
    "# ABRIR Y DIVIDIR DATA \n",
    "d_test = pd.read_pickle(\"./Datos_Rotulos_Trafico/prueba.p\")\n",
    "d_train = pd.read_pickle(\"./Datos_Rotulos_Trafico/entrenamiento.p\")\n",
    "d_validation = pd.read_pickle(\"./Datos_Rotulos_Trafico/validacion.p\")"
   ]
  },
  {
   "cell_type": "code",
   "execution_count": 3,
   "metadata": {},
   "outputs": [
    {
     "data": {
      "text/plain": [
       "(34799,)"
      ]
     },
     "execution_count": 3,
     "metadata": {},
     "output_type": "execute_result"
    }
   ],
   "source": [
    "# REDIMENSIONAR\n",
    "train_feature= d_train[\"features\"]\n",
    "train_feature.shape\n",
    "\n",
    "train_label = d_train[\"labels\"]\n",
    "train_label.shape\n"
   ]
  },
  {
   "cell_type": "code",
   "execution_count": 4,
   "metadata": {},
   "outputs": [],
   "source": [
    "# NORMALIZAR \n",
    "train_featuresN = train_feature / 255"
   ]
  },
  {
   "cell_type": "code",
   "execution_count": 5,
   "metadata": {},
   "outputs": [],
   "source": [
    "# DIVISION DE DATOS\n",
    "train_features, test_features, train_labels, test_labels = train_test_split(train_feature, train_label, test_size=0.2, random_state=42)\n",
    "train_features, val_features, train_labels, val_labels = train_test_split(train_features, train_labels, test_size=0.2, random_state=42)\n"
   ]
  },
  {
   "cell_type": "code",
   "execution_count": 6,
   "metadata": {},
   "outputs": [
    {
     "data": {
      "text/plain": [
       "<matplotlib.image.AxesImage at 0x13c06b970>"
      ]
     },
     "execution_count": 6,
     "metadata": {},
     "output_type": "execute_result"
    },
    {
     "data": {
      "image/png": "[encoded data removed]",
      "text/plain": [
       "<Figure size 640x480 with 1 Axes>"
      ]
     },
     "metadata": {},
     "output_type": "display_data"
    }
   ],
   "source": [
    "# VISUALIZACIÓN DE\n",
    "plt.imshow(train_features[10])"
   ]
  },
  {
   "cell_type": "markdown",
   "metadata": {},
   "source": [
    "#### Parte 3"
   ]
  },
  {
   "cell_type": "code",
   "execution_count": 7,
   "metadata": {},
   "outputs": [
    {
     "name": "stdout",
     "output_type": "stream",
     "text": [
      "Model: \"sequential\"\n",
      "_________________________________________________________________\n",
      " Layer (type)                Output Shape              Param #   \n",
      "=================================================================\n",
      " conv2d (Conv2D)             (None, 28, 28, 6)         456       \n",
      "                                                                 \n",
      " average_pooling2d (AverageP  (None, 14, 14, 6)        0         \n",
      " ooling2D)                                                       \n",
      "                                                                 \n",
      " conv2d_1 (Conv2D)           (None, 10, 10, 16)        2416      \n",
      "                                                                 \n",
      " average_pooling2d_1 (Averag  (None, 5, 5, 16)         0         \n",
      " ePooling2D)                                                     \n",
      "                                                                 \n",
      " flatten (Flatten)           (None, 400)               0         \n",
      "                                                                 \n",
      " dense (Dense)               (None, 120)               48120     \n",
      "                                                                 \n",
      " dense_1 (Dense)             (None, 84)                10164     \n",
      "                                                                 \n",
      " dense_2 (Dense)             (None, 43)                3655      \n",
      "                                                                 \n",
      "=================================================================\n",
      "Total params: 64,811\n",
      "Trainable params: 64,811\n",
      "Non-trainable params: 0\n",
      "_________________________________________________________________\n"
     ]
    }
   ],
   "source": [
    "#MODELO \n",
    "#ref: https://medium.com/analytics-vidhya/lenet-with-tensorflow-a35da0d503df\n",
    "\n",
    "model = models.Sequential()\n",
    "model.add(layers.Conv2D(6, 5, activation='relu', input_shape=train_features.shape[1:]))\n",
    "model.add(layers.AveragePooling2D(2))\n",
    "\n",
    "\n",
    "model.add(layers.Conv2D(16, 5, activation='relu'))\n",
    "\n",
    "model.add(layers.AveragePooling2D())\n",
    "\n",
    "\n",
    "\n",
    "model.add(layers.Flatten())\n",
    "model.add(layers.Dense(120, activation='relu'))\n",
    "model.add(layers.Dense(84, activation='relu'))\n",
    "model.add(layers.Dense(43, activation='softmax'))\n",
    "model.summary()"
   ]
  },
  {
   "cell_type": "markdown",
   "metadata": {},
   "source": [
    "#### Parte 4"
   ]
  },
  {
   "cell_type": "code",
   "execution_count": 11,
   "metadata": {},
   "outputs": [
    {
     "name": "stdout",
     "output_type": "stream",
     "text": [
      "Epoch 1/10\n",
      "696/696 [==============================] - 11s 14ms/step - loss: 1.6345 - accuracy: 0.6178 - val_loss: 0.6005 - val_accuracy: 0.8355\n",
      "Epoch 2/10\n",
      "696/696 [==============================] - 8s 11ms/step - loss: 0.3766 - accuracy: 0.8977 - val_loss: 0.2780 - val_accuracy: 0.9282\n",
      "Epoch 3/10\n",
      "696/696 [==============================] - 8s 11ms/step - loss: 0.2184 - accuracy: 0.9415 - val_loss: 0.2330 - val_accuracy: 0.9404\n",
      "Epoch 4/10\n",
      "696/696 [==============================] - 9s 13ms/step - loss: 0.1671 - accuracy: 0.9537 - val_loss: 0.2231 - val_accuracy: 0.9470\n",
      "Epoch 5/10\n",
      "696/696 [==============================] - 8s 12ms/step - loss: 0.1408 - accuracy: 0.9623 - val_loss: 0.2328 - val_accuracy: 0.9445\n",
      "Epoch 6/10\n",
      "696/696 [==============================] - 8s 12ms/step - loss: 0.1187 - accuracy: 0.9687 - val_loss: 0.1750 - val_accuracy: 0.9591\n",
      "Epoch 7/10\n",
      "696/696 [==============================] - 9s 13ms/step - loss: 0.1141 - accuracy: 0.9694 - val_loss: 0.1084 - val_accuracy: 0.9761\n",
      "Epoch 8/10\n",
      "696/696 [==============================] - 8s 12ms/step - loss: 0.0837 - accuracy: 0.9776 - val_loss: 0.2509 - val_accuracy: 0.9528\n",
      "Epoch 9/10\n",
      "696/696 [==============================] - 8s 11ms/step - loss: 0.1093 - accuracy: 0.9736 - val_loss: 0.1323 - val_accuracy: 0.9740\n",
      "Epoch 10/10\n",
      "696/696 [==============================] - 9s 13ms/step - loss: 0.0798 - accuracy: 0.9801 - val_loss: 0.1461 - val_accuracy: 0.9704\n"
     ]
    }
   ],
   "source": [
    "# Compilar\n",
    "model.compile(optimizer=tf.keras.optimizers.Adam(learning_rate=0.001),\n",
    "              loss=losses.SparseCategoricalCrossentropy(),\n",
    "              metrics=['accuracy'])\n",
    "\n",
    "# Entrenar\n",
    "history = model.fit(train_features, train_labels, epochs=10, batch_size=32,\n",
    "                    validation_data=(val_features, val_labels))"
   ]
  },
  {
   "cell_type": "markdown",
   "metadata": {},
   "source": [
    "### Parte 5: Evaluación del modelo"
   ]
  },
  {
   "cell_type": "code",
   "execution_count": 12,
   "metadata": {},
   "outputs": [
    {
     "name": "stdout",
     "output_type": "stream",
     "text": [
      "218/218 - 1s - loss: 0.1952 - accuracy: 0.9661 - 689ms/epoch - 3ms/step\n",
      "\n",
      "Test accuracy: 0.9660919308662415\n"
     ]
    }
   ],
   "source": [
    "# Evaluar con test\n",
    "test_loss, test_acc = model.evaluate(test_features, test_labels, verbose=2)\n",
    "print('\\nTest accuracy:', test_acc)\n"
   ]
  }
 ],
 "metadata": {
  "kernelspec": {
   "display_name": "Python 3 (ipykernel)",
   "language": "python",
   "name": "python3"
  },
  "language_info": {
   "codemirror_mode": {
    "name": "ipython",
    "version": 3
   },
   "file_extension": ".py",
   "mimetype": "text/x-python",
   "name": "python",
   "nbconvert_exporter": "python",
   "pygments_lexer": "ipython3",
   "version": "3.9.6"
  },
  "orig_nbformat": 4
 },
 "nbformat": 4,
 "nbformat_minor": 2
}
